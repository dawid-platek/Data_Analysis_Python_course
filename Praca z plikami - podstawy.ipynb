{
 "cells": [
  {
   "cell_type": "markdown",
   "id": "8d8307d9-8ab2-4bf7-bd4b-860f48ef2498",
   "metadata": {},
   "source": [
    "## Otwieranie pliku\r",
    "Aby otworzyć plik, używa się wbudowanej funkcji open(). Funkcja ta przyjmuje przynajmniej jeden argument, którym jest ścieżka do pliku. Można także określić tryb, w jakim plik powinien być otwarty (np. do czytania, pisania).\r\n",
    "\n"
   ]
  },
  {
   "cell_type": "raw",
   "id": "e38b6fe8-fb9c-4b6a-b1ab-cde90df3daed",
   "metadata": {},
   "source": [
    "Tryby otwarcia pliku:\n",
    "'r' - tryb tylko do odczytu (domyślny)\n",
    "'w' - tryb tylko do zapisu (jeśli plik istnieje, zostanie nadpisany)\n",
    "'a' - tryb do dopisywania (dane będą dodawane na końcu pliku)\n",
    "'r+' - tryb do odczytu i zapisu (plik musi istnieć)\n",
    "'w+' - tryb do zapisu i odczytu (nadpisuje istniejący plik lub tworzy nowy, jeśli nie istnieje)"
   ]
  },
  {
   "cell_type": "code",
   "execution_count": 2,
   "id": "19f67ce1-753f-4b45-86bf-16f7730df921",
   "metadata": {},
   "outputs": [],
   "source": [
    "file = open('example.txt', 'r')"
   ]
  },
  {
   "cell_type": "markdown",
   "id": "534c7903-e73c-4884-9a26-a03dbdca56c6",
   "metadata": {},
   "source": [
    "## Zamykanie pliku\n",
    "Po zakończeniu pracy z plikiem zawsze powinieneś go zamknąć za pomocą metody close(). To zwalnia zasoby systemu operacyjnego.\r\n"
   ]
  },
  {
   "cell_type": "code",
   "execution_count": 3,
   "id": "2744b368-30d1-47c0-aa2a-e9418643e7f9",
   "metadata": {},
   "outputs": [],
   "source": [
    "file.close()"
   ]
  },
  {
   "cell_type": "markdown",
   "id": "29139890-0d3d-4e47-8866-38487c5863ee",
   "metadata": {},
   "source": [
    "## Czytanie z pliku\r",
    "Gdy plik jest otwarty, możesz czytać jego zawartość na kilka sposobów:\r\n",
    "\n"
   ]
  },
  {
   "cell_type": "raw",
   "id": "3f0d96c2-e027-4bd5-a086-bcd7fa746682",
   "metadata": {},
   "source": [
    "read() - czyta całą zawartość pliku jako jeden długi ciąg znaków.\n",
    "readline() - czyta pojedynczą linię z pliku.\n",
    "readlines() - czyta wszystkie linie z pliku i zwraca je jako listę ciągów znaków."
   ]
  },
  {
   "cell_type": "code",
   "execution_count": 8,
   "id": "1fe22870-d209-4319-9731-3b9afbe9cb51",
   "metadata": {},
   "outputs": [
    {
     "name": "stdout",
     "output_type": "stream",
     "text": [
      "line1\n",
      "line2\n"
     ]
    }
   ],
   "source": [
    "file = open('example.txt', 'r')\n",
    "content = file.read()\n",
    "print(content)\n",
    "file.close()"
   ]
  },
  {
   "cell_type": "markdown",
   "id": "077ce6bd-8ac1-41a1-840b-d6f6bda1b4d3",
   "metadata": {},
   "source": [
    "## Pisanie do pliku\r",
    "Jeśli chcesz zapisać coś do pliku, musisz otworzyć go w trybie, który pozwala na zapis ('w', 'a', 'w+', 'r+'). Następnie możesz użyć metody write() lub writelines().\r\n",
    "\n"
   ]
  },
  {
   "cell_type": "raw",
   "id": "bce59eac-88d7-4eaa-a5c4-9bb03e828d33",
   "metadata": {},
   "source": [
    "write() - pozwala na zapisanie ciągu znaków do pliku.\n",
    "writelines() - pozwala na zapisanie listy ciągów znaków do pliku bez dodawania znaków nowej linii."
   ]
  },
  {
   "cell_type": "code",
   "execution_count": 13,
   "id": "0da42d0b-1543-4d4e-83d2-f17ed642d884",
   "metadata": {},
   "outputs": [],
   "source": [
    "file = open('example_2.txt', 'w+')\n",
    "file.write(\"Hello, world!!!! \\n\")\n",
    "file.close()"
   ]
  },
  {
   "cell_type": "markdown",
   "id": "af3d3c39-117b-487b-8347-c0efe32be586",
   "metadata": {},
   "source": [
    "## Korzystanie z 'with'\n",
    "Python oferuje składnię with, która automatycznie zarządza otwieraniem i zamykaniem plików. To znacznie ułatwia pracę i jest zalecane do używania zawsze, gdy to możliwe. Niezbędne jest tutaj (tak jak w z IF) użycie indentacji (czyli wcięcia - jeden tab albo 4 spacje)\r\n"
   ]
  },
  {
   "cell_type": "code",
   "execution_count": 14,
   "id": "4119db5e-7583-4997-8c9f-172028e97951",
   "metadata": {},
   "outputs": [
    {
     "name": "stdout",
     "output_type": "stream",
     "text": [
      "line1\n",
      "line2\n"
     ]
    }
   ],
   "source": [
    "with open('example.txt', 'r') as file:\n",
    "    content = file.read()\n",
    "    print(content)"
   ]
  },
  {
   "cell_type": "code",
   "execution_count": 15,
   "id": "16f3c5a0-f676-4976-8c1c-c4784d05f8dc",
   "metadata": {},
   "outputs": [],
   "source": [
    "with open('example_2.txt', 'w+') as file:\n",
    "    file.write(\"Hello, world!!!!?? \\n\")"
   ]
  }
 ],
 "metadata": {
  "kernelspec": {
   "display_name": "Python 3 (ipykernel)",
   "language": "python",
   "name": "python3"
  },
  "language_info": {
   "codemirror_mode": {
    "name": "ipython",
    "version": 3
   },
   "file_extension": ".py",
   "mimetype": "text/x-python",
   "name": "python",
   "nbconvert_exporter": "python",
   "pygments_lexer": "ipython3",
   "version": "3.12.4"
  }
 },
 "nbformat": 4,
 "nbformat_minor": 5
}
