{
 "cells": [
  {
   "cell_type": "markdown",
   "id": "e3d662ce-41b7-4dae-8dc6-017b4874b455",
   "metadata": {},
   "source": [
    "## Funkcja print"
   ]
  },
  {
   "cell_type": "code",
   "execution_count": 3,
   "id": "d8320314-9648-4024-94a6-a246ecaf41af",
   "metadata": {},
   "outputs": [
    {
     "name": "stdout",
     "output_type": "stream",
     "text": [
      "Welcome to KajoData!\n"
     ]
    }
   ],
   "source": [
    "print('Welcome to KajoData!')"
   ]
  },
  {
   "cell_type": "code",
   "execution_count": 5,
   "id": "a3d92816-1835-466d-92f2-bf24e869e468",
   "metadata": {},
   "outputs": [
    {
     "name": "stdout",
     "output_type": "stream",
     "text": [
      "Suma liczb 2 i 3 to:  5\n"
     ]
    }
   ],
   "source": [
    "print(\"Suma liczb 2 i 3 to: \", 2 +3)"
   ]
  },
  {
   "cell_type": "code",
   "execution_count": 7,
   "id": "ebd5d0b6-0478-4342-a334-cd49f53a00da",
   "metadata": {},
   "outputs": [
    {
     "name": "stdout",
     "output_type": "stream",
     "text": [
      "pojedynczy\n"
     ]
    }
   ],
   "source": [
    "print('pojedynczy')"
   ]
  },
  {
   "cell_type": "markdown",
   "id": "4f58f2f7-3298-4ea3-9d03-92fe9e005134",
   "metadata": {},
   "source": [
    "## Operacje artytmetyczne"
   ]
  },
  {
   "cell_type": "code",
   "execution_count": 17,
   "id": "5935f3ff-a633-4eca-b54d-4029e3ce7670",
   "metadata": {},
   "outputs": [
    {
     "name": "stdout",
     "output_type": "stream",
     "text": [
      "8\n",
      "14\n",
      "2.3333333333333335\n",
      "1\n"
     ]
    }
   ],
   "source": [
    "print(5+3)\n",
    "print(7*2)\n",
    "print(7/3)\n",
    "print(7%3)"
   ]
  },
  {
   "cell_type": "markdown",
   "id": "5ef590a2-87f1-431e-9a74-c52e92ac53e3",
   "metadata": {},
   "source": [
    "## Komentarze w kodzie"
   ]
  },
  {
   "cell_type": "code",
   "execution_count": 21,
   "id": "f0451b99-bd4f-40b0-a57d-2aad9f1d71ed",
   "metadata": {},
   "outputs": [
    {
     "name": "stdout",
     "output_type": "stream",
     "text": [
      "kod\n"
     ]
    }
   ],
   "source": [
    "print('kod')\n",
    "# print ('komentarz')"
   ]
  },
  {
   "cell_type": "code",
   "execution_count": null,
   "id": "ac4f0fd9-e126-44a5-be01-d3885a4c89a2",
   "metadata": {},
   "outputs": [],
   "source": []
  }
 ],
 "metadata": {
  "kernelspec": {
   "display_name": "Python 3 (ipykernel)",
   "language": "python",
   "name": "python3"
  },
  "language_info": {
   "codemirror_mode": {
    "name": "ipython",
    "version": 3
   },
   "file_extension": ".py",
   "mimetype": "text/x-python",
   "name": "python",
   "nbconvert_exporter": "python",
   "pygments_lexer": "ipython3",
   "version": "3.12.4"
  }
 },
 "nbformat": 4,
 "nbformat_minor": 5
}
