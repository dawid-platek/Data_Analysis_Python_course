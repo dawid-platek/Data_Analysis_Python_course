{
 "cells": [
  {
   "cell_type": "markdown",
   "id": "4cf98baa-6984-4dfc-96d2-1b598ecdd650",
   "metadata": {},
   "source": [
    "## Tworzenie listy"
   ]
  },
  {
   "cell_type": "code",
   "execution_count": 9,
   "id": "30c11642-ca1a-4ab7-965a-ae88e38c683c",
   "metadata": {},
   "outputs": [
    {
     "name": "stdout",
     "output_type": "stream",
     "text": [
      "[1, 2, 3, 4, 5]\n"
     ]
    }
   ],
   "source": [
    "my_list = [1,2,3,4,5]\n",
    "print(my_list)"
   ]
  },
  {
   "cell_type": "code",
   "execution_count": 12,
   "id": "9cec67fe-56fa-46b6-a2a4-0e153e1ca87a",
   "metadata": {},
   "outputs": [
    {
     "name": "stdout",
     "output_type": "stream",
     "text": [
      "[1, 2, 3, 4, 5, 6]\n"
     ]
    }
   ],
   "source": [
    "my_list.append(6)\n",
    "print(my_list)"
   ]
  },
  {
   "cell_type": "markdown",
   "id": "d4ec5e5f-69d2-4f78-8eb7-dfd0512fda8b",
   "metadata": {},
   "source": [
    "## Dodawanie elementów do listy"
   ]
  },
  {
   "cell_type": "markdown",
   "id": "9fdb8128-ddb0-4838-b605-408f22fcb980",
   "metadata": {},
   "source": [
    "W metodzie .insert pierwszy argument do indeks (pozycja na liście), a drugi argument to wartość do wstawienia."
   ]
  },
  {
   "cell_type": "code",
   "execution_count": 17,
   "id": "33986fd8-abe0-4ef1-98e1-d28363f9e126",
   "metadata": {},
   "outputs": [],
   "source": [
    "my_list.insert(0, 0)"
   ]
  },
  {
   "cell_type": "code",
   "execution_count": 23,
   "id": "ac5ec090-85f4-4737-a011-0627b58673e2",
   "metadata": {},
   "outputs": [
    {
     "name": "stdout",
     "output_type": "stream",
     "text": [
      "[0, 1, 2, 3, 4, 5, 6]\n"
     ]
    }
   ],
   "source": [
    "print(my_list)"
   ]
  },
  {
   "cell_type": "code",
   "execution_count": 52,
   "id": "f8ab87ec-8aa4-46e6-9436-20a770bf3f88",
   "metadata": {},
   "outputs": [
    {
     "name": "stdout",
     "output_type": "stream",
     "text": [
      "[0, 1, 2, 3, 4, 5, 6]\n"
     ]
    }
   ],
   "source": [
    "my_list=[0,1,2,3,4,5,6]\n",
    "print(my_list)"
   ]
  },
  {
   "cell_type": "code",
   "execution_count": 54,
   "id": "a98183f5-dfc3-4fa2-9308-fa48c81d25af",
   "metadata": {},
   "outputs": [
    {
     "name": "stdout",
     "output_type": "stream",
     "text": [
      "[0, 1, 2, 3, 4, 5, 6]\n"
     ]
    }
   ],
   "source": [
    "print(my_list)"
   ]
  },
  {
   "cell_type": "markdown",
   "id": "3492d003-9cf5-4720-b5ea-eff98298eea4",
   "metadata": {},
   "source": [
    "## Usuwanie elementów"
   ]
  },
  {
   "cell_type": "markdown",
   "id": "706cc1b5-0f92-43ed-a9cc-df74f968d032",
   "metadata": {},
   "source": [
    "Usuwanie po wartości: metoda .remove(), usuwa pierwsze wystąpienie"
   ]
  },
  {
   "cell_type": "markdown",
   "id": "76f3833f-f133-4b25-9be6-a87abc2149d6",
   "metadata": {},
   "source": [
    "Usuwanie po indeksie: instrukcja del (usuwa element o danym indeksie) lub metody .pop() (usuwa ostatni element i zwraca jego wartość)"
   ]
  },
  {
   "cell_type": "code",
   "execution_count": 57,
   "id": "7adcd540-750f-4cab-939a-215fe6817b53",
   "metadata": {},
   "outputs": [
    {
     "name": "stdout",
     "output_type": "stream",
     "text": [
      "[0, 1, 2, 3, 4, 5, 6]\n"
     ]
    }
   ],
   "source": [
    "print(my_list)"
   ]
  },
  {
   "cell_type": "code",
   "execution_count": 61,
   "id": "3d0961ef-721a-4eb4-aece-6a41398b08b5",
   "metadata": {},
   "outputs": [
    {
     "name": "stdout",
     "output_type": "stream",
     "text": [
      "[0, 1, 3, 4, 5, 6]\n"
     ]
    }
   ],
   "source": [
    "my_list.remove(2)\n",
    "print(my_list)"
   ]
  },
  {
   "cell_type": "code",
   "execution_count": 63,
   "id": "d20eeaab-a509-4d21-976e-8da11bc191d1",
   "metadata": {},
   "outputs": [
    {
     "name": "stdout",
     "output_type": "stream",
     "text": [
      "[1, 3, 4, 5, 6]\n"
     ]
    }
   ],
   "source": [
    "del my_list[0]\n",
    "print(my_list)"
   ]
  },
  {
   "cell_type": "code",
   "execution_count": 65,
   "id": "5aac04a2-fb6c-4462-a259-88bfaefd7000",
   "metadata": {},
   "outputs": [
    {
     "name": "stdout",
     "output_type": "stream",
     "text": [
      "6\n",
      "[1, 3, 4, 5]\n"
     ]
    }
   ],
   "source": [
    "last_item = my_list.pop()\n",
    "print(last_item)\n",
    "print(my_list)"
   ]
  },
  {
   "cell_type": "markdown",
   "id": "86b4d3df-fae9-4303-874a-94026e41ec99",
   "metadata": {},
   "source": [
    "## Dostęp do elementów listy"
   ]
  },
  {
   "cell_type": "code",
   "execution_count": 71,
   "id": "da6f5ac4-daf4-4b06-ae89-7f2a19379e09",
   "metadata": {},
   "outputs": [
    {
     "name": "stdout",
     "output_type": "stream",
     "text": [
      "1\n"
     ]
    }
   ],
   "source": [
    "first_item = my_list[0]\n",
    "print(first_item)"
   ]
  },
  {
   "cell_type": "code",
   "execution_count": null,
   "id": "7dedc06b-2994-4f23-9f19-75cf5ebd828d",
   "metadata": {},
   "outputs": [],
   "source": []
  }
 ],
 "metadata": {
  "kernelspec": {
   "display_name": "Python 3 (ipykernel)",
   "language": "python",
   "name": "python3"
  },
  "language_info": {
   "codemirror_mode": {
    "name": "ipython",
    "version": 3
   },
   "file_extension": ".py",
   "mimetype": "text/x-python",
   "name": "python",
   "nbconvert_exporter": "python",
   "pygments_lexer": "ipython3",
   "version": "3.12.4"
  }
 },
 "nbformat": 4,
 "nbformat_minor": 5
}
