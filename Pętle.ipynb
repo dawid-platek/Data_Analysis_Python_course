{
 "cells": [
  {
   "cell_type": "markdown",
   "id": "1af1df59-8e89-4310-8846-c1fbe96d57a7",
   "metadata": {},
   "source": [
    "# Pętle"
   ]
  },
  {
   "cell_type": "markdown",
   "id": "33aba9a5-162d-42e8-bc69-b45e0564b527",
   "metadata": {},
   "source": [
    "## Pętla for"
   ]
  },
  {
   "cell_type": "code",
   "execution_count": 1,
   "id": "e88f63f7-56b4-4f38-8d49-fecfe1966bfa",
   "metadata": {},
   "outputs": [
    {
     "name": "stdout",
     "output_type": "stream",
     "text": [
      "1\n",
      "4\n",
      "9\n",
      "16\n",
      "25\n"
     ]
    }
   ],
   "source": [
    "numbers = [1,2,3,4,5]\n",
    "for n in numbers:\n",
    "    print(n**2)"
   ]
  },
  {
   "cell_type": "code",
   "execution_count": 2,
   "id": "abfef2e2-72f8-4dcb-803b-532ca84cd100",
   "metadata": {},
   "outputs": [
    {
     "name": "stdout",
     "output_type": "stream",
     "text": [
      "4\n",
      "5\n",
      "6\n",
      "7\n",
      "8\n"
     ]
    }
   ],
   "source": [
    "for n in numbers:\n",
    "    print(n+3)"
   ]
  },
  {
   "cell_type": "code",
   "execution_count": 3,
   "id": "0e6c6e37-8b1a-46a3-b2e8-d21af92b5030",
   "metadata": {},
   "outputs": [
    {
     "name": "stdout",
     "output_type": "stream",
     "text": [
      "-2\n",
      "-1\n",
      "0\n",
      "1\n",
      "2\n"
     ]
    }
   ],
   "source": [
    "for n in numbers:\n",
    "    print(n-3)"
   ]
  },
  {
   "cell_type": "markdown",
   "id": "9d34106a-f36d-4958-a4c7-90a1da3409bb",
   "metadata": {},
   "source": [
    "## Pętla while"
   ]
  },
  {
   "cell_type": "code",
   "execution_count": 7,
   "id": "04be3b0f-2c60-4b64-ae7a-2989719a4b49",
   "metadata": {},
   "outputs": [
    {
     "name": "stdout",
     "output_type": "stream",
     "text": [
      "1\n",
      "2\n",
      "3\n",
      "4\n",
      "5\n"
     ]
    }
   ],
   "source": [
    "count = 1\n",
    "while count <= 5:\n",
    "    print(count)\n",
    "    count +=1"
   ]
  },
  {
   "cell_type": "code",
   "execution_count": null,
   "id": "6785bd33-90b5-4d3b-a489-bdd55233fbde",
   "metadata": {},
   "outputs": [],
   "source": []
  }
 ],
 "metadata": {
  "kernelspec": {
   "display_name": "Python 3 (ipykernel)",
   "language": "python",
   "name": "python3"
  },
  "language_info": {
   "codemirror_mode": {
    "name": "ipython",
    "version": 3
   },
   "file_extension": ".py",
   "mimetype": "text/x-python",
   "name": "python",
   "nbconvert_exporter": "python",
   "pygments_lexer": "ipython3",
   "version": "3.12.4"
  }
 },
 "nbformat": 4,
 "nbformat_minor": 5
}
