{
 "cells": [
  {
   "cell_type": "markdown",
   "id": "d51e9cfa-5a92-4698-b5cf-15454fcf4f0a",
   "metadata": {},
   "source": [
    "## Zmienne (variables)"
   ]
  },
  {
   "cell_type": "code",
   "execution_count": null,
   "id": "6871a811-1e38-42a3-8cce-58a0805d8970",
   "metadata": {},
   "outputs": [],
   "source": [
    "liczba = 10"
   ]
  },
  {
   "cell_type": "code",
   "execution_count": null,
   "id": "ce0c1bb3-7490-470a-a348-b6b4ed62f94f",
   "metadata": {},
   "outputs": [],
   "source": [
    "tekst = 'kajodata'"
   ]
  },
  {
   "cell_type": "markdown",
   "id": "52d182c9-2f2e-4400-a7cc-d737ee280b5c",
   "metadata": {},
   "source": [
    "## Typy danych"
   ]
  },
  {
   "cell_type": "code",
   "execution_count": null,
   "id": "b711b83b-cdea-4430-8a0f-64fb4fa4e77f",
   "metadata": {},
   "outputs": [],
   "source": [
    "liczba_calkowita = 5 # int\n",
    "liczba_zmiennoprzecinkowa = 2.71 # float\n",
    "ciąg_znakow = 'Kajodata jest spoko' # string\n",
    "prawda_lub_fałsz = True # bool"
   ]
  },
  {
   "cell_type": "code",
   "execution_count": 6,
   "id": "78e295f5-8018-4e85-9a19-e281619609ea",
   "metadata": {},
   "outputs": [
    {
     "name": "stdout",
     "output_type": "stream",
     "text": [
      "8\n"
     ]
    }
   ],
   "source": [
    "a = 5\n",
    "b = 3\n",
    "suma = a + b\n",
    "print(suma)"
   ]
  },
  {
   "cell_type": "code",
   "execution_count": 9,
   "id": "2c4b0fb7-b93f-4881-b8e7-164e3f3280a2",
   "metadata": {},
   "outputs": [
    {
     "name": "stdout",
     "output_type": "stream",
     "text": [
      "5\n",
      "8\n"
     ]
    }
   ],
   "source": [
    "liczba = 5\n",
    "print(liczba)\n",
    "liczba = liczba + 3\n",
    "print(liczba)"
   ]
  },
  {
   "cell_type": "markdown",
   "id": "f2b80e9d-391d-4db0-8d1a-e6725f0c4698",
   "metadata": {},
   "source": [
    "## Konwertowanie typów danych"
   ]
  },
  {
   "cell_type": "code",
   "execution_count": 13,
   "id": "02e4573a-1c2b-461b-ab91-e4310cf52dcf",
   "metadata": {},
   "outputs": [
    {
     "name": "stdout",
     "output_type": "stream",
     "text": [
      "8\n"
     ]
    }
   ],
   "source": [
    "a = 5\n",
    "b = \"3\"\n",
    "print(a + int(b))"
   ]
  },
  {
   "cell_type": "code",
   "execution_count": 17,
   "id": "3eb4ec8b-19ef-4eef-a42b-834d116baead",
   "metadata": {},
   "outputs": [
    {
     "name": "stdout",
     "output_type": "stream",
     "text": [
      "Everything4Free!\n"
     ]
    }
   ],
   "source": [
    "a = 'Everything'\n",
    "b = 4\n",
    "c = 'Free!'\n",
    "print (a + str(b) + c)"
   ]
  },
  {
   "cell_type": "code",
   "execution_count": 19,
   "id": "0460b00e-633d-4d06-ac2c-d8c2c6b3b73b",
   "metadata": {},
   "outputs": [
    {
     "name": "stdout",
     "output_type": "stream",
     "text": [
      "<class 'str'>\n",
      "<class 'int'>\n"
     ]
    }
   ],
   "source": [
    "a = 'Everything'\n",
    "b = 4\n",
    "\n",
    "print(type(a))\n",
    "print(type(b))"
   ]
  },
  {
   "cell_type": "markdown",
   "id": "558db660-6cfa-481b-a488-6e6274b7cbd6",
   "metadata": {},
   "source": [
    "## Formatowanie ciągów znaków w Pythonie"
   ]
  },
  {
   "cell_type": "code",
   "execution_count": 48,
   "id": "1f09db26-744e-46d7-a0e5-ab2451a71965",
   "metadata": {},
   "outputs": [],
   "source": [
    "imie = 'Dawid'\n",
    "wiek = 35"
   ]
  },
  {
   "cell_type": "code",
   "execution_count": 50,
   "id": "9d539b6d-b602-46b8-8e45-ab45dbea4908",
   "metadata": {},
   "outputs": [
    {
     "name": "stdout",
     "output_type": "stream",
     "text": [
      "Mam na imię Dawid i mam 35 lat\n"
     ]
    }
   ],
   "source": [
    "print('Mam na imię {} i mam {} lat'.format(imie, wiek))"
   ]
  },
  {
   "cell_type": "code",
   "execution_count": 60,
   "id": "1d5a2d1b-3bbb-4984-92de-cca01f3e8b9e",
   "metadata": {},
   "outputs": [
    {
     "name": "stdout",
     "output_type": "stream",
     "text": [
      "Mam na imię Dawid i mam 35 lat\n"
     ]
    }
   ],
   "source": [
    "print(f'Mam na imię {imie} i mam {wiek} lat')"
   ]
  },
  {
   "cell_type": "code",
   "execution_count": null,
   "id": "36b444d5-7599-4720-870f-12495c8145e6",
   "metadata": {},
   "outputs": [],
   "source": []
  }
 ],
 "metadata": {
  "kernelspec": {
   "display_name": "Python 3 (ipykernel)",
   "language": "python",
   "name": "python3"
  },
  "language_info": {
   "codemirror_mode": {
    "name": "ipython",
    "version": 3
   },
   "file_extension": ".py",
   "mimetype": "text/x-python",
   "name": "python",
   "nbconvert_exporter": "python",
   "pygments_lexer": "ipython3",
   "version": "3.12.4"
  }
 },
 "nbformat": 4,
 "nbformat_minor": 5
}
