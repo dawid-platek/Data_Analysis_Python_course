{
 "cells": [
  {
   "cell_type": "markdown",
   "id": "91dda1bb-b328-4699-a147-26c433b3495a",
   "metadata": {},
   "source": [
    "## Znalezienie największej liczby"
   ]
  },
  {
   "cell_type": "code",
   "execution_count": 3,
   "id": "da7123d8-ab4e-4b39-8ee4-7f96d7651f2b",
   "metadata": {},
   "outputs": [
    {
     "name": "stdout",
     "output_type": "stream",
     "text": [
      "100\n"
     ]
    }
   ],
   "source": [
    "numbers = [29, 45, 5, 21, 100]\n",
    "max_number = numbers[0]\n",
    "\n",
    "for number in numbers:\n",
    "    if number > max_number:\n",
    "            max_number = number\n",
    "print(max_number)\n",
    "\n"
   ]
  },
  {
   "cell_type": "markdown",
   "id": "1bf9918b-d35a-47ca-a200-b40e2fe00a21",
   "metadata": {},
   "source": [
    "## Sprawdzenie czy wszystkie liczby w liście są dodatnie"
   ]
  },
  {
   "cell_type": "code",
   "execution_count": 7,
   "id": "c62b7c99-ebf7-4254-864f-ae199658b265",
   "metadata": {},
   "outputs": [
    {
     "name": "stdout",
     "output_type": "stream",
     "text": [
      "False\n"
     ]
    }
   ],
   "source": [
    "numbers1 = [34, 23, -10, 5]\n",
    "all_positive = True\n",
    "for number in numbers1:\n",
    "    if number < 0:\n",
    "        all_postive = False\n",
    "        break\n",
    "print(all_postive)"
   ]
  },
  {
   "cell_type": "code",
   "execution_count": null,
   "id": "5877ade7-7088-45d5-a775-85b395b0adaa",
   "metadata": {},
   "outputs": [],
   "source": []
  }
 ],
 "metadata": {
  "kernelspec": {
   "display_name": "Python 3 (ipykernel)",
   "language": "python",
   "name": "python3"
  },
  "language_info": {
   "codemirror_mode": {
    "name": "ipython",
    "version": 3
   },
   "file_extension": ".py",
   "mimetype": "text/x-python",
   "name": "python",
   "nbconvert_exporter": "python",
   "pygments_lexer": "ipython3",
   "version": "3.12.4"
  }
 },
 "nbformat": 4,
 "nbformat_minor": 5
}
