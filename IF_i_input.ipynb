{
 "cells": [
  {
   "cell_type": "markdown",
   "id": "b31e1685-31a0-455d-994b-fff5aa68fc4e",
   "metadata": {},
   "source": [
    "## Funkcja input()"
   ]
  },
  {
   "cell_type": "code",
   "execution_count": 4,
   "id": "eea635c3-7afc-4dd4-bf49-9ba98114cee7",
   "metadata": {},
   "outputs": [
    {
     "name": "stdin",
     "output_type": "stream",
     "text": [
      "What's your name? Dawid\n"
     ]
    },
    {
     "name": "stdout",
     "output_type": "stream",
     "text": [
      "Hello, Dawid!\n"
     ]
    }
   ],
   "source": [
    "user_name = input(\"What's your name?\")\n",
    "print(f'Hello, {user_name}!')"
   ]
  },
  {
   "cell_type": "markdown",
   "id": "ee7824c0-5126-4954-8709-7494470d1a68",
   "metadata": {},
   "source": [
    "## Instrukcja warunkowa if"
   ]
  },
  {
   "cell_type": "code",
   "execution_count": 4,
   "id": "e436ccad-7747-4150-9c1a-6a8f1c083a45",
   "metadata": {},
   "outputs": [
    {
     "name": "stdout",
     "output_type": "stream",
     "text": [
      "You're under 30\n"
     ]
    }
   ],
   "source": [
    "age = 22\n",
    "if age < 18:\n",
    "    print(\"You're underage\")\n",
    "elif age < 20:\n",
    "    print(\"You're under 20\")\n",
    "elif age < 30:\n",
    "    print(\"You're under 30\")\n",
    "else:\n",
    "    print(\"You're a senior\")"
   ]
  },
  {
   "cell_type": "markdown",
   "id": "aa9a3731-55a2-47dc-b85a-1940169f49a6",
   "metadata": {},
   "source": [
    "## Zagnieżdząnie (nesting) if"
   ]
  },
  {
   "cell_type": "code",
   "execution_count": 16,
   "id": "87a17739-46fc-4a4e-bbcf-9e692bbe5a40",
   "metadata": {},
   "outputs": [
    {
     "name": "stdin",
     "output_type": "stream",
     "text": [
      "How old are you? 15\n"
     ]
    },
    {
     "name": "stdout",
     "output_type": "stream",
     "text": [
      "You are underage ane cannot drive a car\n"
     ]
    }
   ],
   "source": [
    "age = int(input(\"How old are you?\"))\n",
    "if age >= 18:\n",
    "    driver_license = input(\"Do you have a driver's license? (yes/no)?\")\n",
    "    if driver_license == \"yes\":\n",
    "        print(\"You can drive a car.\")\n",
    "    else:\n",
    "        print(\"You cannot drive a car.\")\n",
    "else:\n",
    "    print(\"You are underage ane cannot drive a car.\")"
   ]
  },
  {
   "cell_type": "code",
   "execution_count": null,
   "id": "522ea15d-042a-41a9-ab37-f79502fce18c",
   "metadata": {},
   "outputs": [],
   "source": []
  },
  {
   "cell_type": "code",
   "execution_count": null,
   "id": "2f109a0b-575a-4f84-b0eb-3244ee348312",
   "metadata": {},
   "outputs": [],
   "source": []
  }
 ],
 "metadata": {
  "kernelspec": {
   "display_name": "Python 3 (ipykernel)",
   "language": "python",
   "name": "python3"
  },
  "language_info": {
   "codemirror_mode": {
    "name": "ipython",
    "version": 3
   },
   "file_extension": ".py",
   "mimetype": "text/x-python",
   "name": "python",
   "nbconvert_exporter": "python",
   "pygments_lexer": "ipython3",
   "version": "3.12.4"
  }
 },
 "nbformat": 4,
 "nbformat_minor": 5
}
