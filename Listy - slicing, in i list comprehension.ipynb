{
 "cells": [
  {
   "cell_type": "markdown",
   "id": "6e51a923-9891-427c-9e15-b8bed31098bf",
   "metadata": {},
   "source": [
    "## List Slicing (krojenie list)"
   ]
  },
  {
   "cell_type": "code",
   "execution_count": 12,
   "id": "05b7f4dc-31ea-4585-9843-428d788300c4",
   "metadata": {},
   "outputs": [
    {
     "name": "stdout",
     "output_type": "stream",
     "text": [
      "[2, 4, 6]\n"
     ]
    }
   ],
   "source": [
    "numbers = [0,1,2,3,4,5,6,7,8,9]\n",
    "print(numbers[2:7:2])"
   ]
  },
  {
   "cell_type": "code",
   "execution_count": 16,
   "id": "d382f48e-4d14-4d44-b326-250a19430fcc",
   "metadata": {},
   "outputs": [
    {
     "name": "stdout",
     "output_type": "stream",
     "text": [
      "[7, 8, 9]\n"
     ]
    }
   ],
   "source": [
    "last_three = numbers[-3:]\n",
    "print(last_three)"
   ]
  },
  {
   "cell_type": "markdown",
   "id": "d4100b83-ad37-4bc5-b1ee-ffc09ec3f3f1",
   "metadata": {},
   "source": [
    "## Operator in"
   ]
  },
  {
   "cell_type": "code",
   "execution_count": 23,
   "id": "d30344dd-4425-4617-8c60-6f6ff12f2cd9",
   "metadata": {},
   "outputs": [
    {
     "name": "stdout",
     "output_type": "stream",
     "text": [
      "banana is in the list\n"
     ]
    }
   ],
   "source": [
    "fruits = ['apple', 'banana', 'cherry']\n",
    "if 'banana' in fruits:\n",
    "    print('banana is in the list')"
   ]
  },
  {
   "cell_type": "markdown",
   "id": "c0aa7dc2-1ad8-453f-a10e-a52bc1b8d717",
   "metadata": {},
   "source": [
    "## List Comprehension"
   ]
  },
  {
   "cell_type": "code",
   "execution_count": 28,
   "id": "cac706f5-c014-4150-af63-afe83d7f68c4",
   "metadata": {},
   "outputs": [
    {
     "name": "stdout",
     "output_type": "stream",
     "text": [
      "[1, 4, 9, 16, 25]\n"
     ]
    }
   ],
   "source": [
    "squares = [x**2 for x in range(1,6)]\n",
    "print(squares)"
   ]
  },
  {
   "cell_type": "code",
   "execution_count": 30,
   "id": "49749276-85e4-4bb3-b8dd-e60cdda29c1d",
   "metadata": {},
   "outputs": [
    {
     "name": "stdout",
     "output_type": "stream",
     "text": [
      "[4, 16, 36, 64, 100]\n"
     ]
    }
   ],
   "source": [
    "squares = [x**2 for x in range(1,11) if x % 2 == 0]\n",
    "print(squares)"
   ]
  },
  {
   "cell_type": "code",
   "execution_count": 34,
   "id": "9d62e8e9-ed1f-4fb8-b6f6-dd25c774e325",
   "metadata": {},
   "outputs": [
    {
     "name": "stdout",
     "output_type": "stream",
     "text": [
      "[2, 4]\n"
     ]
    }
   ],
   "source": [
    "list1 = [1,2,3,4]\n",
    "list2 = [2,4,6,8]\n",
    "common = [x for x in list1 if x in list2]\n",
    "print(common)"
   ]
  },
  {
   "cell_type": "code",
   "execution_count": null,
   "id": "1b6857ab-fbb9-406e-ac3a-f1cc7a71bd85",
   "metadata": {},
   "outputs": [],
   "source": []
  }
 ],
 "metadata": {
  "kernelspec": {
   "display_name": "Python 3 (ipykernel)",
   "language": "python",
   "name": "python3"
  },
  "language_info": {
   "codemirror_mode": {
    "name": "ipython",
    "version": 3
   },
   "file_extension": ".py",
   "mimetype": "text/x-python",
   "name": "python",
   "nbconvert_exporter": "python",
   "pygments_lexer": "ipython3",
   "version": "3.12.4"
  }
 },
 "nbformat": 4,
 "nbformat_minor": 5
}
